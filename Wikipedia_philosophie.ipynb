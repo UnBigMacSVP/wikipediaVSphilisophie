{
 "cells": [
  {
   "cell_type": "code",
   "execution_count": 11,
   "metadata": {},
   "outputs": [],
   "source": [
    "import bs4 as BeautifulSoup\n",
    "import requests as rq\n",
    "import urllib3\n",
    "import re"
   ]
  },
  {
   "cell_type": "code",
   "execution_count": 35,
   "metadata": {},
   "outputs": [],
   "source": [
    "list = [\"https://en.wikipedia.org/wiki/BBC\",\"https://en.wikipedia.org/wiki/Catch_(game)\"]"
   ]
  },
  {
   "cell_type": "code",
   "execution_count": 36,
   "metadata": {},
   "outputs": [],
   "source": [
    "#for testing purpose\n",
    "\n",
    "#html = rq.get(list[0]).text\n",
    "#soup = BeautifulSoup.BeautifulSoup(html)\n",
    "#print(soup.findAll(\"tbody\")[0])\n",
    "#print(soup.find_all(class_='mw-parser-output')[0].find_all(\"p\", attrs={'class': None})[0])\n"
   ]
  },
  {
   "cell_type": "code",
   "execution_count": 37,
   "metadata": {},
   "outputs": [],
   "source": [
    "#Define a function that retrieve the first link from URL\n",
    "\n",
    "def getFirstLinkFromURL(url):\n",
    "    ## het html code\n",
    "    html = rq.get(url).text\n",
    "    #html = html.split('/tbody>', 1)[-1]\n",
    "    \n",
    "    ## create BeautifulSoup html parser\n",
    "    soup = BeautifulSoup.BeautifulSoup(html)\n",
    "\n",
    "    ## retrieve every <a href= bal\n",
    "    href = soup.find_all(class_='mw-parser-output')[0].find_all(\"p\", attrs={'class': None})[0].findAll('a',href=True)\n",
    "    \n",
    "    for element in href:\n",
    "        if 'href=\"/wiki/' in str(element) :   \n",
    "            # return the first URL of the page leading to another wikipedia page\n",
    "            return \"https://en.wikipedia.org\" + element['href']\n",
    "    \n",
    "    "
   ]
  },
  {
   "cell_type": "code",
   "execution_count": 38,
   "metadata": {},
   "outputs": [
    {
     "name": "stdout",
     "output_type": "stream",
     "text": [
      "count :  0\n",
      "url :  https://en.wikipedia.org/wiki/BBC\n",
      "count :  1\n",
      "url :  https://en.wikipedia.org/wiki/Public_service_broadcaster\n",
      "count :  2\n",
      "url :  https://en.wikipedia.org/wiki/Mass_media\n",
      "count :  3\n",
      "url :  https://en.wikipedia.org/wiki/Media_(communication)\n",
      "count :  4\n",
      "url :  https://en.wikipedia.org/wiki/Communication\n",
      "count :  5\n",
      "url :  https://en.wikipedia.org/wiki/Meaning_(semiotics)\n",
      "count :  6\n",
      "url :  https://en.wikipedia.org/wiki/Semiotics\n",
      "count :  7\n",
      "url :  https://en.wikipedia.org/wiki/Sign_process\n",
      "count :  8\n",
      "url :  https://en.wikipedia.org/wiki/Greek_language\n",
      "count :  9\n",
      "url :  https://en.wikipedia.org/wiki/Modern_Greek\n",
      "count :  10\n",
      "url :  https://en.wikipedia.org/wiki/Dialect\n",
      "count :  11\n",
      "url :  https://en.wikipedia.org/wiki/Latin\n",
      "count :  12\n",
      "url :  https://en.wikipedia.org/wiki/Help:IPA/Latin\n",
      "count :  13\n",
      "url :  https://en.wikipedia.org/wiki/International_Phonetic_Alphabet\n",
      "count :  14\n",
      "url :  https://en.wikipedia.org/wiki/Alphabet\n",
      "count :  15\n",
      "url :  https://en.wikipedia.org/wiki/Letter_(alphabet)\n",
      "count :  16\n",
      "url :  https://en.wikipedia.org/wiki/Symbol\n",
      "count :  17\n",
      "url :  https://en.wikipedia.org/wiki/Idea\n",
      "success after  18  iterations\n",
      "count :  0\n",
      "url :  https://en.wikipedia.org/wiki/Catch_(game)\n",
      "count :  1\n",
      "url :  https://en.wikipedia.org/wiki/Children%27s_games\n",
      "count :  2\n",
      "url :  https://en.wikipedia.org/wiki/Game\n",
      "count :  3\n",
      "url :  https://en.wikipedia.org/wiki/Play_(activity)\n",
      "count :  4\n",
      "url :  https://en.wikipedia.org/wiki/Free_will\n",
      "count :  5\n",
      "url :  https://en.wikipedia.org/wiki/Choice\n",
      "count :  6\n",
      "url :  https://en.wikipedia.org/wiki/Decision_making\n",
      "count :  7\n",
      "url :  https://en.wikipedia.org/wiki/Psychology\n",
      "count :  8\n",
      "url :  https://en.wikipedia.org/wiki/Mind\n",
      "count :  9\n",
      "url :  https://en.wikipedia.org/wiki/Cognition\n",
      "count :  10\n",
      "url :  https://en.wikipedia.org/wiki/Intellectual_function\n",
      "count :  11\n",
      "url :  https://en.wikipedia.org/wiki/Reasoning\n",
      "count :  12\n",
      "url :  https://en.wikipedia.org/wiki/Consciousness\n",
      "count :  13\n",
      "url :  https://en.wikipedia.org/wiki/Quality_(philosophy)\n",
      "count :  14\n",
      "url :  https://en.wikipedia.org/wiki/Property_(philosophy)\n",
      "count :  15\n",
      "url :  https://en.wikipedia.org/wiki/Logic\n",
      "count :  16\n",
      "url :  https://en.wikipedia.org/wiki/Ancient_Greek_language\n",
      "count :  17\n",
      "url :  https://en.wikipedia.org/wiki/Greek_language\n",
      "count :  18\n",
      "url :  https://en.wikipedia.org/wiki/Modern_Greek\n",
      "count :  19\n",
      "url :  https://en.wikipedia.org/wiki/Dialect\n",
      "count :  20\n",
      "url :  https://en.wikipedia.org/wiki/Latin\n",
      "count :  21\n",
      "url :  https://en.wikipedia.org/wiki/Help:IPA/Latin\n",
      "count :  22\n",
      "url :  https://en.wikipedia.org/wiki/International_Phonetic_Alphabet\n",
      "count :  23\n",
      "url :  https://en.wikipedia.org/wiki/Alphabet\n",
      "count :  24\n",
      "url :  https://en.wikipedia.org/wiki/Letter_(alphabet)\n",
      "count :  25\n",
      "url :  https://en.wikipedia.org/wiki/Symbol\n",
      "count :  26\n",
      "url :  https://en.wikipedia.org/wiki/Idea\n",
      "success after  27  iterations\n"
     ]
    }
   ],
   "source": [
    "for element in list:\n",
    "    count = 0\n",
    "    url = element\n",
    "\n",
    "    while(url != \"https://en.wikipedia.org/wiki/Philosophy\"):\n",
    "        print(\"count : \" , count)\n",
    "        print(\"url : \" , url)\n",
    "        count += 1\n",
    "        url = getFirstLinkFromURL(url)\n",
    "    print(\"success after \", count, \" iterations\")\n"
   ]
  },
  {
   "cell_type": "code",
   "execution_count": null,
   "metadata": {},
   "outputs": [],
   "source": []
  },
  {
   "cell_type": "code",
   "execution_count": null,
   "metadata": {},
   "outputs": [],
   "source": []
  },
  {
   "cell_type": "code",
   "execution_count": null,
   "metadata": {},
   "outputs": [],
   "source": []
  }
 ],
 "metadata": {
  "kernelspec": {
   "display_name": "Python 3",
   "language": "python",
   "name": "python3"
  },
  "language_info": {
   "codemirror_mode": {
    "name": "ipython",
    "version": 3
   },
   "file_extension": ".py",
   "mimetype": "text/x-python",
   "name": "python",
   "nbconvert_exporter": "python",
   "pygments_lexer": "ipython3",
   "version": "3.7.3"
  }
 },
 "nbformat": 4,
 "nbformat_minor": 2
}
